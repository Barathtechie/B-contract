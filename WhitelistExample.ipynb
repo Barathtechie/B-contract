{
 "cells": [
  {
   "cell_type": "markdown",
   "metadata": {},
   "source": [
    "## Step 1 - Connect to Ethereum Node"
   ]
  },
  {
   "cell_type": "code",
   "execution_count": 68,
   "metadata": {},
   "outputs": [],
   "source": [
    "# Step 1a - Start local geth node\n",
    "# Run runGeth script    \n",
    "# $ ./00_runGeth.sh\n",
    "# \n",
    "# Or the following but remember to include the preloaded keyfiles for all actors \n",
    "# geth --dev --dev.period 1 --datadir ./testchain --rpc --rpccorsdomain '*' --rpcport 8646 --rpcapi \"eth,net,web3,debug\" --port 32323 --maxpeers 0 --targetgaslimit 994712388 console"
   ]
  },
  {
   "cell_type": "code",
   "execution_count": 69,
   "metadata": {},
   "outputs": [],
   "source": [
    "# If no module named solc\n",
    "#!pip install --upgrade pip\n",
    "#!pip install py-solc"
   ]
  },
  {
   "cell_type": "code",
   "execution_count": 70,
   "metadata": {
    "scrolled": true
   },
   "outputs": [
    {
     "name": "stdout",
     "output_type": "stream",
     "text": [
      "The autoreload extension is already loaded. To reload it, use:\n",
      "  %reload_ext autoreload\n"
     ]
    }
   ],
   "source": [
    "%load_ext autoreload\n",
    "%autoreload 2\n",
    "%reload_ext autoreload\n",
    "\n",
    "import web3, solc, json\n",
    "from web3.contract import ConciseContract\n",
    "from web3 import Web3\n",
    "from web3.auto.gethdev import w3"
   ]
  },
  {
   "cell_type": "code",
   "execution_count": 71,
   "metadata": {
    "collapsed": true
   },
   "outputs": [],
   "source": [
    "# Pointer to Ethereum node (Can also be grenache or infura)\n",
    "ipc_path = '../testchain/geth.ipc'\n",
    "w3 = Web3(Web3.IPCProvider(ipc_path))"
   ]
  },
  {
   "cell_type": "code",
   "execution_count": 30,
   "metadata": {},
   "outputs": [],
   "source": [
    "# If using a geth node (optional)\n",
    "from web3.middleware import geth_poa_middleware\n",
    "w3.middleware_stack.inject(geth_poa_middleware, layer=0)"
   ]
  },
  {
   "cell_type": "code",
   "execution_count": 8,
   "metadata": {
    "collapsed": true
   },
   "outputs": [],
   "source": []
  },
  {
   "cell_type": "code",
   "execution_count": null,
   "metadata": {},
   "outputs": [],
   "source": []
  },
  {
   "cell_type": "markdown",
   "metadata": {
    "collapsed": true
   },
   "source": [
    "#### Check connection "
   ]
  },
  {
   "cell_type": "code",
   "execution_count": 37,
   "metadata": {},
   "outputs": [
    {
     "data": {
      "text/plain": [
       "954"
      ]
     },
     "execution_count": 37,
     "metadata": {},
     "output_type": "execute_result"
    }
   ],
   "source": [
    "# Check that our geth node is running\n",
    "block = w3.eth.getBlock('latest')\n",
    "block.number"
   ]
  },
  {
   "cell_type": "code",
   "execution_count": 38,
   "metadata": {},
   "outputs": [
    {
     "data": {
      "text/plain": [
       "HexBytes('0x5ce092d9111643d90104d60377d16d133a9eb16113fd841e0befbe478fe37e09')"
      ]
     },
     "execution_count": 38,
     "metadata": {},
     "output_type": "execute_result"
    }
   ],
   "source": [
    "block.hash"
   ]
  },
  {
   "cell_type": "code",
   "execution_count": 39,
   "metadata": {},
   "outputs": [
    {
     "data": {
      "text/plain": [
       "'0xa22AB8A9D641CE77e06D98b7D7065d324D3d6976'"
      ]
     },
     "execution_count": 39,
     "metadata": {},
     "output_type": "execute_result"
    }
   ],
   "source": [
    "# Checks that test accounts have loaded correctly. \n",
    "w3.eth.accounts[2]\n",
    "\n",
    "# >'0xa22AB8A9D641CE77e06D98b7D7065d324D3d6976'"
   ]
  },
  {
   "cell_type": "markdown",
   "metadata": {},
   "source": [
    "## Step 2 - Set Up Environment"
   ]
  },
  {
   "cell_type": "code",
   "execution_count": 72,
   "metadata": {},
   "outputs": [
    {
     "name": "stdout",
     "output_type": "stream",
     "text": [
      "solc, the solidity compiler commandline interface\r\n",
      "Version: 0.5.3+commit.10d17f24.Darwin.appleclang\r\n"
     ]
    }
   ],
   "source": [
    "# compile contract, check which version. ie solidity 0.5.3\n",
    "# !pip install solc\n",
    "!solc --version"
   ]
  },
  {
   "cell_type": "code",
   "execution_count": 73,
   "metadata": {
    "collapsed": true
   },
   "outputs": [],
   "source": [
    "# load web3 python helper functions \n",
    "SCRIPTSDIR=\"scripts\"\n",
    "!cp $SCRIPTSDIR/* .\n",
    "import functions"
   ]
  },
  {
   "cell_type": "code",
   "execution_count": 74,
   "metadata": {},
   "outputs": [
    {
     "name": "stdout",
     "output_type": "stream",
     "text": [
      "mkdir: flattened: File exists\r\n"
     ]
    }
   ],
   "source": [
    "# File operations for solidity flattener\n",
    "!chmod 755 ./scripts/solidityFlattener.pl\n",
    "!mkdir flattened"
   ]
  },
  {
   "cell_type": "code",
   "execution_count": null,
   "metadata": {
    "collapsed": true
   },
   "outputs": [],
   "source": []
  },
  {
   "cell_type": "code",
   "execution_count": null,
   "metadata": {
    "collapsed": true
   },
   "outputs": [],
   "source": []
  },
  {
   "cell_type": "markdown",
   "metadata": {},
   "source": [
    "## Step 3 - Deploy Base Smart Contracts"
   ]
  },
  {
   "cell_type": "code",
   "execution_count": 43,
   "metadata": {
    "collapsed": true
   },
   "outputs": [],
   "source": [
    "# define\n",
    "def sign_transaction(txn):\n",
    "    # Flesh out the transaction for local signing\n",
    "    next_nonce = w3.eth.getTransactionCount(str(w3.eth.accounts[0]))\n",
    "    signable_transaction = dict(\n",
    "      txn,\n",
    "      nonce=next_nonce,\n",
    "      gasPrice=w3.toWei(4, 'gwei'),\n",
    "    )\n",
    "    # Sign transaction\n",
    "    encrypted_key = open('./testchain/keystore/UTC--2017-05-20T02-37-30.360937280Z--a00af22d07c87d96eeeb0ed583f8f6ac7812827e').read()\n",
    "    private_key = w3.eth.account.decrypt(encrypted_key, '')\n",
    "    signature_info = w3.eth.account.signTransaction(signable_transaction, private_key)\n",
    "    # Broadcast transaction\n",
    "    txn_hash = w3.eth.sendRawTransaction(signature_info.rawTransaction)\n",
    "    # Wait for the transaction to be mined\n",
    "    receipt = w3.eth.waitForTransactionReceipt(txn_hash)\n",
    "\n",
    "    return receipt"
   ]
  },
  {
   "cell_type": "code",
   "execution_count": 44,
   "metadata": {
    "collapsed": true
   },
   "outputs": [],
   "source": [
    "## Warning, this is for testing purposes only, this is not a secure way to handle private key. Needs to be rewritten."
   ]
  },
  {
   "cell_type": "markdown",
   "metadata": {
    "collapsed": true
   },
   "source": [
    "### Step 3a - Contract Deployment"
   ]
  },
  {
   "cell_type": "markdown",
   "metadata": {},
   "source": [
    "#### Build Contract"
   ]
  },
  {
   "cell_type": "code",
   "execution_count": 67,
   "metadata": {},
   "outputs": [],
   "source": [
    "WHITELISTSOL = \"./flattened/WhiteList_flattened.sol\"\n",
    "!./scripts/solidityFlattener.pl --contractsdir=./contracts --mainsol=WhiteList.sol --outputsol={WHITELISTSOL} # --verbose"
   ]
  },
  {
   "cell_type": "code",
   "execution_count": 53,
   "metadata": {},
   "outputs": [
    {
     "name": "stdout",
     "output_type": "stream",
     "text": [
      "{\"contracts\":{\"./fla\n"
     ]
    }
   ],
   "source": [
    "WhiteListOutput = !solc --optimize --combined-json abi,bin,interface {WHITELISTSOL}\n",
    "i = 0\n",
    "while (i < len(WhiteListOutput)):\n",
    "    if WhiteListOutput[i][:10] == '{\"contract':\n",
    "        print(WhiteListOutput[i][:20])\n",
    "        WhiteListOutputContract = WhiteListOutput[i]\n",
    "    i = i + 1\n",
    "\n",
    "WhiteListAbi = json.loads(WhiteListOutputContract)['contracts'][WHITELISTSOL + ':WhiteList']['abi'] \n",
    "WhiteListBin = json.loads(WhiteListOutputContract)['contracts'][WHITELISTSOL + ':WhiteList']['bin']\n",
    "\n",
    "# Build the contract object in preparation for deployment\n"
   ]
  },
  {
   "cell_type": "code",
   "execution_count": 54,
   "metadata": {},
   "outputs": [
    {
     "data": {
      "text/plain": [
       "['{\"contracts\":{\"./flattened/WhiteList_flattened.sol:Controlled\":{\"abi\":\"[{\\\\\"constant\\\\\":true,\\\\\"inputs\\\\\":[],\\\\\"name\\\\\":\\\\\"initialised\\\\\",\\\\\"outputs\\\\\":[{\\\\\"name\\\\\":\\\\\"\\\\\",\\\\\"type\\\\\":\\\\\"bool\\\\\"}],\\\\\"payable\\\\\":false,\\\\\"stateMutability\\\\\":\\\\\"view\\\\\",\\\\\"type\\\\\":\\\\\"function\\\\\"},{\\\\\"constant\\\\\":true,\\\\\"inputs\\\\\":[],\\\\\"name\\\\\":\\\\\"isControllable\\\\\",\\\\\"outputs\\\\\":[{\\\\\"name\\\\\":\\\\\"\\\\\",\\\\\"type\\\\\":\\\\\"bool\\\\\"}],\\\\\"payable\\\\\":false,\\\\\"stateMutability\\\\\":\\\\\"view\\\\\",\\\\\"type\\\\\":\\\\\"function\\\\\"},{\\\\\"constant\\\\\":false,\\\\\"inputs\\\\\":[],\\\\\"name\\\\\":\\\\\"renounceOwnership\\\\\",\\\\\"outputs\\\\\":[],\\\\\"payable\\\\\":false,\\\\\"stateMutability\\\\\":\\\\\"nonpayable\\\\\",\\\\\"type\\\\\":\\\\\"function\\\\\"},{\\\\\"constant\\\\\":true,\\\\\"inputs\\\\\":[],\\\\\"name\\\\\":\\\\\"owner\\\\\",\\\\\"outputs\\\\\":[{\\\\\"name\\\\\":\\\\\"\\\\\",\\\\\"type\\\\\":\\\\\"address\\\\\"}],\\\\\"payable\\\\\":false,\\\\\"stateMutability\\\\\":\\\\\"view\\\\\",\\\\\"type\\\\\":\\\\\"function\\\\\"},{\\\\\"constant\\\\\":true,\\\\\"inputs\\\\\":[],\\\\\"name\\\\\":\\\\\"isOwner\\\\\",\\\\\"outputs\\\\\":[{\\\\\"name\\\\\":\\\\\"\\\\\",\\\\\"type\\\\\":\\\\\"bool\\\\\"}],\\\\\"payable\\\\\":false,\\\\\"stateMutability\\\\\":\\\\\"view\\\\\",\\\\\"type\\\\\":\\\\\"function\\\\\"},{\\\\\"constant\\\\\":false,\\\\\"inputs\\\\\":[{\\\\\"name\\\\\":\\\\\"_controller\\\\\",\\\\\"type\\\\\":\\\\\"address\\\\\"}],\\\\\"name\\\\\":\\\\\"addController\\\\\",\\\\\"outputs\\\\\":[],\\\\\"payable\\\\\":false,\\\\\"stateMutability\\\\\":\\\\\"nonpayable\\\\\",\\\\\"type\\\\\":\\\\\"function\\\\\"},{\\\\\"constant\\\\\":true,\\\\\"inputs\\\\\":[{\\\\\"name\\\\\":\\\\\"\\\\\",\\\\\"type\\\\\":\\\\\"address\\\\\"}],\\\\\"name\\\\\":\\\\\"controllers\\\\\",\\\\\"outputs\\\\\":[{\\\\\"name\\\\\":\\\\\"\\\\\",\\\\\"type\\\\\":\\\\\"bool\\\\\"}],\\\\\"payable\\\\\":false,\\\\\"stateMutability\\\\\":\\\\\"view\\\\\",\\\\\"type\\\\\":\\\\\"function\\\\\"},{\\\\\"constant\\\\\":true,\\\\\"inputs\\\\\":[],\\\\\"name\\\\\":\\\\\"mOwner\\\\\",\\\\\"outputs\\\\\":[{\\\\\"name\\\\\":\\\\\"\\\\\",\\\\\"type\\\\\":\\\\\"address\\\\\"}],\\\\\"payable\\\\\":false,\\\\\"stateMutability\\\\\":\\\\\"view\\\\\",\\\\\"type\\\\\":\\\\\"function\\\\\"},{\\\\\"constant\\\\\":false,\\\\\"inputs\\\\\":[{\\\\\"name\\\\\":\\\\\"newOwner\\\\\",\\\\\"type\\\\\":\\\\\"address\\\\\"}],\\\\\"name\\\\\":\\\\\"transferOwnership\\\\\",\\\\\"outputs\\\\\":[],\\\\\"payable\\\\\":false,\\\\\"stateMutability\\\\\":\\\\\"nonpayable\\\\\",\\\\\"type\\\\\":\\\\\"function\\\\\"},{\\\\\"constant\\\\\":false,\\\\\"inputs\\\\\":[{\\\\\"name\\\\\":\\\\\"_controller\\\\\",\\\\\"type\\\\\":\\\\\"address\\\\\"}],\\\\\"name\\\\\":\\\\\"removeController\\\\\",\\\\\"outputs\\\\\":[],\\\\\"payable\\\\\":false,\\\\\"stateMutability\\\\\":\\\\\"nonpayable\\\\\",\\\\\"type\\\\\":\\\\\"function\\\\\"},{\\\\\"anonymous\\\\\":false,\\\\\"inputs\\\\\":[{\\\\\"indexed\\\\\":false,\\\\\"name\\\\\":\\\\\"_controller\\\\\",\\\\\"type\\\\\":\\\\\"address\\\\\"}],\\\\\"name\\\\\":\\\\\"ControllerAdded\\\\\",\\\\\"type\\\\\":\\\\\"event\\\\\"},{\\\\\"anonymous\\\\\":false,\\\\\"inputs\\\\\":[{\\\\\"indexed\\\\\":false,\\\\\"name\\\\\":\\\\\"_controller\\\\\",\\\\\"type\\\\\":\\\\\"address\\\\\"}],\\\\\"name\\\\\":\\\\\"ControllerRemoved\\\\\",\\\\\"type\\\\\":\\\\\"event\\\\\"},{\\\\\"anonymous\\\\\":false,\\\\\"inputs\\\\\":[{\\\\\"indexed\\\\\":true,\\\\\"name\\\\\":\\\\\"previousOwner\\\\\",\\\\\"type\\\\\":\\\\\"address\\\\\"},{\\\\\"indexed\\\\\":true,\\\\\"name\\\\\":\\\\\"newOwner\\\\\",\\\\\"type\\\\\":\\\\\"address\\\\\"}],\\\\\"name\\\\\":\\\\\"OwnershipTransferred\\\\\",\\\\\"type\\\\\":\\\\\"event\\\\\"}]\",\"bin\":\"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\"},\"./flattened/WhiteList_flattened.sol:Owned\":{\"abi\":\"[{\\\\\"constant\\\\\":true,\\\\\"inputs\\\\\":[],\\\\\"name\\\\\":\\\\\"initialised\\\\\",\\\\\"outputs\\\\\":[{\\\\\"name\\\\\":\\\\\"\\\\\",\\\\\"type\\\\\":\\\\\"bool\\\\\"}],\\\\\"payable\\\\\":false,\\\\\"stateMutability\\\\\":\\\\\"view\\\\\",\\\\\"type\\\\\":\\\\\"function\\\\\"},{\\\\\"constant\\\\\":false,\\\\\"inputs\\\\\":[],\\\\\"name\\\\\":\\\\\"renounceOwnership\\\\\",\\\\\"outputs\\\\\":[],\\\\\"payable\\\\\":false,\\\\\"stateMutability\\\\\":\\\\\"nonpayable\\\\\",\\\\\"type\\\\\":\\\\\"function\\\\\"},{\\\\\"constant\\\\\":true,\\\\\"inputs\\\\\":[],\\\\\"name\\\\\":\\\\\"owner\\\\\",\\\\\"outputs\\\\\":[{\\\\\"name\\\\\":\\\\\"\\\\\",\\\\\"type\\\\\":\\\\\"address\\\\\"}],\\\\\"payable\\\\\":false,\\\\\"stateMutability\\\\\":\\\\\"view\\\\\",\\\\\"type\\\\\":\\\\\"function\\\\\"},{\\\\\"constant\\\\\":true,\\\\\"inputs\\\\\":[],\\\\\"name\\\\\":\\\\\"isOwner\\\\\",\\\\\"outputs\\\\\":[{\\\\\"name\\\\\":\\\\\"\\\\\",\\\\\"type\\\\\":\\\\\"bool\\\\\"}],\\\\\"payable\\\\\":false,\\\\\"stateMutability\\\\\":\\\\\"view\\\\\",\\\\\"type\\\\\":\\\\\"function\\\\\"},{\\\\\"constant\\\\\":true,\\\\\"inputs\\\\\":[],\\\\\"name\\\\\":\\\\\"mOwner\\\\\",\\\\\"outputs\\\\\":[{\\\\\"name\\\\\":\\\\\"\\\\\",\\\\\"type\\\\\":\\\\\"address\\\\\"}],\\\\\"payable\\\\\":false,\\\\\"stateMutability\\\\\":\\\\\"view\\\\\",\\\\\"type\\\\\":\\\\\"function\\\\\"},{\\\\\"constant\\\\\":false,\\\\\"inputs\\\\\":[{\\\\\"name\\\\\":\\\\\"newOwner\\\\\",\\\\\"type\\\\\":\\\\\"address\\\\\"}],\\\\\"name\\\\\":\\\\\"transferOwnership\\\\\",\\\\\"outputs\\\\\":[],\\\\\"payable\\\\\":false,\\\\\"stateMutability\\\\\":\\\\\"nonpayable\\\\\",\\\\\"type\\\\\":\\\\\"function\\\\\"},{\\\\\"anonymous\\\\\":false,\\\\\"inputs\\\\\":[{\\\\\"indexed\\\\\":true,\\\\\"name\\\\\":\\\\\"previousOwner\\\\\",\\\\\"type\\\\\":\\\\\"address\\\\\"},{\\\\\"indexed\\\\\":true,\\\\\"name\\\\\":\\\\\"newOwner\\\\\",\\\\\"type\\\\\":\\\\\"address\\\\\"}],\\\\\"name\\\\\":\\\\\"OwnershipTransferred\\\\\",\\\\\"type\\\\\":\\\\\"event\\\\\"}]\",\"bin\":\"608060405234801561001057600080fd5b50610285806100206000396000f3fe608060405234801561001057600080fd5b506004361061007e577c0100000000000000000000000000000000000000000000000000000000600035046307003bb48114610083578063715018a61461009f5780638da5cb5b146100a95780638f32d59b146100cd578063dcda4bf3146100d5578063f2fde38b146100dd575b600080fd5b61008b610103565b604080519115158252519081900360200190f35b6100a7610124565b005b6100b161018e565b60408051600160a060020a039092168252519081900360200190f35b61008b61019d565b6100b16101ae565b6100a7600480360360208110156100f357600080fd5b5035600160a060020a03166101bd565b60005474010000000000000000000000000000000000000000900460ff1681565b61012c61019d565b151561013757600080fd5b60008054604051600160a060020a03909116907f8be0079c531659141344cd1fd0a4f28419497f9722a3daafe3b4186f6b6457e0908390a36000805473ffffffffffffffffffffffffffffffffffffffff19169055565b600054600160a060020a031690565b600054600160a060020a0316331490565b600054600160a060020a031681565b6101c561019d565b15156101d057600080fd5b6101d9816101dc565b50565b600160a060020a03811615156101f157600080fd5b60008054604051600160a060020a03808516939216917f8be0079c531659141344cd1fd0a4f28419497f9722a3daafe3b4186f6b6457e091a36000805473ffffffffffffffffffffffffffffffffffffffff1916600160a060020a039290921691909117905556fea165627a7a72305820c628769b4cced7268e968c5bc66620bc170425cfd72ad01df7695062bf0707020029\"},\"./flattened/WhiteList_flattened.sol:WhiteList\":{\"abi\":\"[{\\\\\"constant\\\\\":true,\\\\\"inputs\\\\\":[],\\\\\"name\\\\\":\\\\\"initialised\\\\\",\\\\\"outputs\\\\\":[{\\\\\"name\\\\\":\\\\\"\\\\\",\\\\\"type\\\\\":\\\\\"bool\\\\\"}],\\\\\"payable\\\\\":false,\\\\\"stateMutability\\\\\":\\\\\"view\\\\\",\\\\\"type\\\\\":\\\\\"function\\\\\"},{\\\\\"constant\\\\\":true,\\\\\"inputs\\\\\":[{\\\\\"name\\\\\":\\\\\"\\\\\",\\\\\"type\\\\\":\\\\\"address\\\\\"}],\\\\\"name\\\\\":\\\\\"whiteList\\\\\",\\\\\"outputs\\\\\":[{\\\\\"name\\\\\":\\\\\"\\\\\",\\\\\"type\\\\\":\\\\\"bool\\\\\"}],\\\\\"payable\\\\\":false,\\\\\"stateMutability\\\\\":\\\\\"view\\\\\",\\\\\"type\\\\\":\\\\\"function\\\\\"},{\\\\\"constant\\\\\":true,\\\\\"inputs\\\\\":[],\\\\\"name\\\\\":\\\\\"isControllable\\\\\",\\\\\"outputs\\\\\":[{\\\\\"name\\\\\":\\\\\"\\\\\",\\\\\"type\\\\\":\\\\\"bool\\\\\"}],\\\\\"payable\\\\\":false,\\\\\"stateMutability\\\\\":\\\\\"view\\\\\",\\\\\"type\\\\\":\\\\\"function\\\\\"},{\\\\\"constant\\\\\":false,\\\\\"inputs\\\\\":[{\\\\\"name\\\\\":\\\\\"accounts\\\\\",\\\\\"type\\\\\":\\\\\"address[]\\\\\"}],\\\\\"name\\\\\":\\\\\"remove\\\\\",\\\\\"outputs\\\\\":[],\\\\\"payable\\\\\":false,\\\\\"stateMutability\\\\\":\\\\\"nonpayable\\\\\",\\\\\"type\\\\\":\\\\\"function\\\\\"},{\\\\\"constant\\\\\":false,\\\\\"inputs\\\\\":[],\\\\\"name\\\\\":\\\\\"renounceOwnership\\\\\",\\\\\"outputs\\\\\":[],\\\\\"payable\\\\\":false,\\\\\"stateMutability\\\\\":\\\\\"nonpayable\\\\\",\\\\\"type\\\\\":\\\\\"function\\\\\"},{\\\\\"constant\\\\\":true,\\\\\"inputs\\\\\":[],\\\\\"name\\\\\":\\\\\"owner\\\\\",\\\\\"outputs\\\\\":[{\\\\\"name\\\\\":\\\\\"\\\\\",\\\\\"type\\\\\":\\\\\"address\\\\\"}],\\\\\"payable\\\\\":false,\\\\\"stateMutability\\\\\":\\\\\"view\\\\\",\\\\\"type\\\\\":\\\\\"function\\\\\"},{\\\\\"constant\\\\\":true,\\\\\"inputs\\\\\":[],\\\\\"name\\\\\":\\\\\"isOwner\\\\\",\\\\\"outputs\\\\\":[{\\\\\"name\\\\\":\\\\\"\\\\\",\\\\\"type\\\\\":\\\\\"bool\\\\\"}],\\\\\"payable\\\\\":false,\\\\\"stateMutability\\\\\":\\\\\"view\\\\\",\\\\\"type\\\\\":\\\\\"function\\\\\"},{\\\\\"constant\\\\\":true,\\\\\"inputs\\\\\":[{\\\\\"name\\\\\":\\\\\"account\\\\\",\\\\\"type\\\\\":\\\\\"address\\\\\"}],\\\\\"name\\\\\":\\\\\"isInWhiteList\\\\\",\\\\\"outputs\\\\\":[{\\\\\"name\\\\\":\\\\\"\\\\\",\\\\\"type\\\\\":\\\\\"bool\\\\\"}],\\\\\"payable\\\\\":false,\\\\\"stateMutability\\\\\":\\\\\"view\\\\\",\\\\\"type\\\\\":\\\\\"function\\\\\"},{\\\\\"constant\\\\\":false,\\\\\"inputs\\\\\":[{\\\\\"name\\\\\":\\\\\"_controller\\\\\",\\\\\"type\\\\\":\\\\\"address\\\\\"}],\\\\\"name\\\\\":\\\\\"addController\\\\\",\\\\\"outputs\\\\\":[],\\\\\"payable\\\\\":false,\\\\\"stateMutability\\\\\":\\\\\"nonpayable\\\\\",\\\\\"type\\\\\":\\\\\"function\\\\\"},{\\\\\"constant\\\\\":false,\\\\\"inputs\\\\\":[{\\\\\"name\\\\\":\\\\\"accounts\\\\\",\\\\\"type\\\\\":\\\\\"address[]\\\\\"}],\\\\\"name\\\\\":\\\\\"add\\\\\",\\\\\"outputs\\\\\":[],\\\\\"payable\\\\\":false,\\\\\"stateMutability\\\\\":\\\\\"nonpayable\\\\\",\\\\\"type\\\\\":\\\\\"function\\\\\"},{\\\\\"constant\\\\\":true,\\\\\"inputs\\\\\":[{\\\\\"name\\\\\":\\\\\"\\\\\",\\\\\"type\\\\\":\\\\\"address\\\\\"}],\\\\\"name\\\\\":\\\\\"controllers\\\\\",\\\\\"outputs\\\\\":[{\\\\\"name\\\\\":\\\\\"\\\\\",\\\\\"type\\\\\":\\\\\"bool\\\\\"}],\\\\\"payable\\\\\":false,\\\\\"stateMutability\\\\\":\\\\\"view\\\\\",\\\\\"type\\\\\":\\\\\"function\\\\\"},{\\\\\"constant\\\\\":true,\\\\\"inputs\\\\\":[],\\\\\"name\\\\\":\\\\\"mOwner\\\\\",\\\\\"outputs\\\\\":[{\\\\\"name\\\\\":\\\\\"\\\\\",\\\\\"type\\\\\":\\\\\"address\\\\\"}],\\\\\"payable\\\\\":false,\\\\\"stateMutability\\\\\":\\\\\"view\\\\\",\\\\\"type\\\\\":\\\\\"function\\\\\"},{\\\\\"constant\\\\\":false,\\\\\"inputs\\\\\":[{\\\\\"name\\\\\":\\\\\"newOwner\\\\\",\\\\\"type\\\\\":\\\\\"address\\\\\"}],\\\\\"name\\\\\":\\\\\"transferOwnership\\\\\",\\\\\"outputs\\\\\":[],\\\\\"payable\\\\\":false,\\\\\"stateMutability\\\\\":\\\\\"nonpayable\\\\\",\\\\\"type\\\\\":\\\\\"function\\\\\"},{\\\\\"constant\\\\\":false,\\\\\"inputs\\\\\":[{\\\\\"name\\\\\":\\\\\"_controller\\\\\",\\\\\"type\\\\\":\\\\\"address\\\\\"}],\\\\\"name\\\\\":\\\\\"removeController\\\\\",\\\\\"outputs\\\\\":[],\\\\\"payable\\\\\":false,\\\\\"stateMutability\\\\\":\\\\\"nonpayable\\\\\",\\\\\"type\\\\\":\\\\\"function\\\\\"},{\\\\\"inputs\\\\\":[],\\\\\"payable\\\\\":false,\\\\\"stateMutability\\\\\":\\\\\"nonpayable\\\\\",\\\\\"type\\\\\":\\\\\"constructor\\\\\"},{\\\\\"anonymous\\\\\":false,\\\\\"inputs\\\\\":[{\\\\\"indexed\\\\\":true,\\\\\"name\\\\\":\\\\\"account\\\\\",\\\\\"type\\\\\":\\\\\"address\\\\\"},{\\\\\"indexed\\\\\":false,\\\\\"name\\\\\":\\\\\"status\\\\\",\\\\\"type\\\\\":\\\\\"bool\\\\\"}],\\\\\"name\\\\\":\\\\\"AccountListed\\\\\",\\\\\"type\\\\\":\\\\\"event\\\\\"},{\\\\\"anonymous\\\\\":false,\\\\\"inputs\\\\\":[{\\\\\"indexed\\\\\":false,\\\\\"name\\\\\":\\\\\"_controller\\\\\",\\\\\"type\\\\\":\\\\\"address\\\\\"}],\\\\\"name\\\\\":\\\\\"ControllerAdded\\\\\",\\\\\"type\\\\\":\\\\\"event\\\\\"},{\\\\\"anonymous\\\\\":false,\\\\\"inputs\\\\\":[{\\\\\"indexed\\\\\":false,\\\\\"name\\\\\":\\\\\"_controller\\\\\",\\\\\"type\\\\\":\\\\\"address\\\\\"}],\\\\\"name\\\\\":\\\\\"ControllerRemoved\\\\\",\\\\\"type\\\\\":\\\\\"event\\\\\"},{\\\\\"anonymous\\\\\":false,\\\\\"inputs\\\\\":[{\\\\\"indexed\\\\\":true,\\\\\"name\\\\\":\\\\\"previousOwner\\\\\",\\\\\"type\\\\\":\\\\\"address\\\\\"},{\\\\\"indexed\\\\\":true,\\\\\"name\\\\\":\\\\\"newOwner\\\\\",\\\\\"type\\\\\":\\\\\"address\\\\\"}],\\\\\"name\\\\\":\\\\\"OwnershipTransferred\\\\\",\\\\\"type\\\\\":\\\\\"event\\\\\"}]\",\"bin\":\"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\"},\"./flattened/WhiteList_flattened.sol:WhiteListInterface\":{\"abi\":\"[{\\\\\"constant\\\\\":true,\\\\\"inputs\\\\\":[{\\\\\"name\\\\\":\\\\\"account\\\\\",\\\\\"type\\\\\":\\\\\"address\\\\\"}],\\\\\"name\\\\\":\\\\\"isInWhiteList\\\\\",\\\\\"outputs\\\\\":[{\\\\\"name\\\\\":\\\\\"\\\\\",\\\\\"type\\\\\":\\\\\"bool\\\\\"}],\\\\\"payable\\\\\":false,\\\\\"stateMutability\\\\\":\\\\\"view\\\\\",\\\\\"type\\\\\":\\\\\"function\\\\\"}]\",\"bin\":\"\"}},\"version\":\"0.5.3+commit.10d17f24.Darwin.appleclang\"}']"
      ]
     },
     "execution_count": 54,
     "metadata": {},
     "output_type": "execute_result"
    }
   ],
   "source": [
    "WhiteListOutput"
   ]
  },
  {
   "cell_type": "code",
   "execution_count": 55,
   "metadata": {},
   "outputs": [
    {
     "data": {
      "text/plain": [
       "'[{\"constant\":true,\"inputs\":[],\"name\":\"initialised\",\"outputs\":[{\"name\":\"\",\"type\":\"bool\"}],\"payable\":false,\"stateMutability\":\"view\",\"type\":\"function\"},{\"constant\":true,\"inputs\":[{\"name\":\"\",\"type\":\"address\"}],\"name\":\"whiteList\",\"outputs\":[{\"name\":\"\",\"type\":\"bool\"}],\"payable\":false,\"stateMutability\":\"view\",\"type\":\"function\"},{\"constant\":true,\"inputs\":[],\"name\":\"isControllable\",\"outputs\":[{\"name\":\"\",\"type\":\"bool\"}],\"payable\":false,\"stateMutability\":\"view\",\"type\":\"function\"},{\"constant\":false,\"inputs\":[{\"name\":\"accounts\",\"type\":\"address[]\"}],\"name\":\"remove\",\"outputs\":[],\"payable\":false,\"stateMutability\":\"nonpayable\",\"type\":\"function\"},{\"constant\":false,\"inputs\":[],\"name\":\"renounceOwnership\",\"outputs\":[],\"payable\":false,\"stateMutability\":\"nonpayable\",\"type\":\"function\"},{\"constant\":true,\"inputs\":[],\"name\":\"owner\",\"outputs\":[{\"name\":\"\",\"type\":\"address\"}],\"payable\":false,\"stateMutability\":\"view\",\"type\":\"function\"},{\"constant\":true,\"inputs\":[],\"name\":\"isOwner\",\"outputs\":[{\"name\":\"\",\"type\":\"bool\"}],\"payable\":false,\"stateMutability\":\"view\",\"type\":\"function\"},{\"constant\":true,\"inputs\":[{\"name\":\"account\",\"type\":\"address\"}],\"name\":\"isInWhiteList\",\"outputs\":[{\"name\":\"\",\"type\":\"bool\"}],\"payable\":false,\"stateMutability\":\"view\",\"type\":\"function\"},{\"constant\":false,\"inputs\":[{\"name\":\"_controller\",\"type\":\"address\"}],\"name\":\"addController\",\"outputs\":[],\"payable\":false,\"stateMutability\":\"nonpayable\",\"type\":\"function\"},{\"constant\":false,\"inputs\":[{\"name\":\"accounts\",\"type\":\"address[]\"}],\"name\":\"add\",\"outputs\":[],\"payable\":false,\"stateMutability\":\"nonpayable\",\"type\":\"function\"},{\"constant\":true,\"inputs\":[{\"name\":\"\",\"type\":\"address\"}],\"name\":\"controllers\",\"outputs\":[{\"name\":\"\",\"type\":\"bool\"}],\"payable\":false,\"stateMutability\":\"view\",\"type\":\"function\"},{\"constant\":true,\"inputs\":[],\"name\":\"mOwner\",\"outputs\":[{\"name\":\"\",\"type\":\"address\"}],\"payable\":false,\"stateMutability\":\"view\",\"type\":\"function\"},{\"constant\":false,\"inputs\":[{\"name\":\"newOwner\",\"type\":\"address\"}],\"name\":\"transferOwnership\",\"outputs\":[],\"payable\":false,\"stateMutability\":\"nonpayable\",\"type\":\"function\"},{\"constant\":false,\"inputs\":[{\"name\":\"_controller\",\"type\":\"address\"}],\"name\":\"removeController\",\"outputs\":[],\"payable\":false,\"stateMutability\":\"nonpayable\",\"type\":\"function\"},{\"inputs\":[],\"payable\":false,\"stateMutability\":\"nonpayable\",\"type\":\"constructor\"},{\"anonymous\":false,\"inputs\":[{\"indexed\":true,\"name\":\"account\",\"type\":\"address\"},{\"indexed\":false,\"name\":\"status\",\"type\":\"bool\"}],\"name\":\"AccountListed\",\"type\":\"event\"},{\"anonymous\":false,\"inputs\":[{\"indexed\":false,\"name\":\"_controller\",\"type\":\"address\"}],\"name\":\"ControllerAdded\",\"type\":\"event\"},{\"anonymous\":false,\"inputs\":[{\"indexed\":false,\"name\":\"_controller\",\"type\":\"address\"}],\"name\":\"ControllerRemoved\",\"type\":\"event\"},{\"anonymous\":false,\"inputs\":[{\"indexed\":true,\"name\":\"previousOwner\",\"type\":\"address\"},{\"indexed\":true,\"name\":\"newOwner\",\"type\":\"address\"}],\"name\":\"OwnershipTransferred\",\"type\":\"event\"}]'"
      ]
     },
     "execution_count": 55,
     "metadata": {},
     "output_type": "execute_result"
    }
   ],
   "source": [
    "WhiteListAbi"
   ]
  },
  {
   "cell_type": "markdown",
   "metadata": {},
   "source": [
    "#### Deploy WhiteList"
   ]
  },
  {
   "cell_type": "code",
   "execution_count": 57,
   "metadata": {},
   "outputs": [
    {
     "data": {
      "text/plain": [
       "'0x5fe7CD00aA1aA3cCf94F459E3fB5C633C640aBB4'"
      ]
     },
     "execution_count": 57,
     "metadata": {},
     "output_type": "execute_result"
    }
   ],
   "source": [
    "## Deploy WhiteList\n",
    "whitelist_deployer = w3.eth.contract(abi=WhiteListAbi, bytecode=WhiteListBin)\n",
    "init = whitelist_deployer.constructor()\n",
    "txn = init.buildTransaction({'gas': 1000000})\n",
    "receipt = sign_transaction(txn)\n",
    "WhiteListAddress = receipt.contractAddress\n",
    "WhiteListAddress"
   ]
  },
  {
   "cell_type": "code",
   "execution_count": 58,
   "metadata": {},
   "outputs": [
    {
     "data": {
      "text/plain": [
       "<web3.contract.ConciseContract at 0x104467da0>"
      ]
     },
     "execution_count": 58,
     "metadata": {},
     "output_type": "execute_result"
    }
   ],
   "source": [
    "# Build ConciseContract artifact\n",
    "whitelist_contract = w3.eth.contract(\n",
    "    address=WhiteListAddress,\n",
    "    abi=WhiteListAbi,\n",
    ")\n",
    "whitelist_CContract = ConciseContract(whitelist_contract)\n",
    "whitelist_CContract"
   ]
  },
  {
   "cell_type": "code",
   "execution_count": null,
   "metadata": {
    "collapsed": true
   },
   "outputs": [],
   "source": []
  },
  {
   "cell_type": "code",
   "execution_count": null,
   "metadata": {
    "collapsed": true
   },
   "outputs": [],
   "source": []
  },
  {
   "cell_type": "markdown",
   "metadata": {},
   "source": [
    "## Step 4 - Interacting with Smart Contract "
   ]
  },
  {
   "cell_type": "code",
   "execution_count": 59,
   "metadata": {},
   "outputs": [
    {
     "name": "stdout",
     "output_type": "stream",
     "text": [
      "WhiteListAddress:             0x5fe7CD00aA1aA3cCf94F459E3fB5C633C640aBB4    Deployed:True\n"
     ]
    }
   ],
   "source": [
    "print(\"WhiteListAddress:             \" + WhiteListAddress + \"    Deployed:\" + str(whitelist_CContract.isOwner()) )"
   ]
  },
  {
   "cell_type": "markdown",
   "metadata": {},
   "source": [
    "#### 4a - Add accounts to whitelist"
   ]
  },
  {
   "cell_type": "code",
   "execution_count": 60,
   "metadata": {},
   "outputs": [
    {
     "data": {
      "text/plain": [
       "1"
      ]
     },
     "execution_count": 60,
     "metadata": {},
     "output_type": "execute_result"
    }
   ],
   "source": [
    "# Whitelist \n",
    "insert_list = [w3.eth.accounts[2], w3.eth.accounts[3]]\n",
    "\n",
    "# Submit txn\n",
    "txn = whitelist_contract.functions.add(insert_list).buildTransaction({'gas': 320000})\n",
    "receipt = sign_transaction(txn)\n",
    "receipt.status"
   ]
  },
  {
   "cell_type": "code",
   "execution_count": 61,
   "metadata": {},
   "outputs": [
    {
     "data": {
      "text/plain": [
       "True"
      ]
     },
     "execution_count": 61,
     "metadata": {},
     "output_type": "execute_result"
    }
   ],
   "source": [
    "# Using the standard web3 contract call \n",
    "dst_name = whitelist_contract.functions.isInWhiteList(w3.eth.accounts[3]).call()\n",
    "dst_name"
   ]
  },
  {
   "cell_type": "code",
   "execution_count": 62,
   "metadata": {},
   "outputs": [
    {
     "data": {
      "text/plain": [
       "True"
      ]
     },
     "execution_count": 62,
     "metadata": {},
     "output_type": "execute_result"
    }
   ],
   "source": [
    "# Using the ConciseContract call \n",
    "whitelist_CContract.isInWhiteList(w3.eth.accounts[3])"
   ]
  },
  {
   "cell_type": "markdown",
   "metadata": {},
   "source": [
    "#### 4b - Checking Controller"
   ]
  },
  {
   "cell_type": "code",
   "execution_count": 63,
   "metadata": {},
   "outputs": [
    {
     "data": {
      "text/plain": [
       "True"
      ]
     },
     "execution_count": 63,
     "metadata": {},
     "output_type": "execute_result"
    }
   ],
   "source": [
    "whitelist_CContract.isControllable()"
   ]
  },
  {
   "cell_type": "code",
   "execution_count": 64,
   "metadata": {},
   "outputs": [
    {
     "data": {
      "text/plain": [
       "1"
      ]
     },
     "execution_count": 64,
     "metadata": {},
     "output_type": "execute_result"
    }
   ],
   "source": [
    "# Submit txn to add new controller \"accounts[5]\"\n",
    "txn = whitelist_contract.functions.addController(w3.eth.accounts[3]).buildTransaction({'gas': 320000})\n",
    "receipt = sign_transaction(txn)\n",
    "receipt.status"
   ]
  },
  {
   "cell_type": "code",
   "execution_count": null,
   "metadata": {
    "collapsed": true
   },
   "outputs": [],
   "source": []
  },
  {
   "cell_type": "code",
   "execution_count": null,
   "metadata": {
    "collapsed": true
   },
   "outputs": [],
   "source": []
  },
  {
   "cell_type": "code",
   "execution_count": null,
   "metadata": {
    "collapsed": true
   },
   "outputs": [],
   "source": []
  },
  {
   "cell_type": "markdown",
   "metadata": {
    "collapsed": true
   },
   "source": [
    "## Misc Code Blocks"
   ]
  },
  {
   "cell_type": "code",
   "execution_count": 65,
   "metadata": {},
   "outputs": [
    {
     "data": {
      "text/plain": [
       "AttributeDict({'blockHash': HexBytes('0x806f4997c19c3ebdee69ff5908dd788b20132771e8aec71f73e7e6080d4b38e3'),\n",
       " 'blockNumber': 1226,\n",
       " 'from': '0xa00Af22D07c87d96EeeB0Ed583f8F6AC7812827E',\n",
       " 'gas': 320000,\n",
       " 'gasPrice': 4000000000,\n",
       " 'hash': HexBytes('0x03cd8cbf6855adda91f72bc1c6d67cf17d2e4f957128300c990148474ee43b7b'),\n",
       " 'input': '0xa7fc7a07000000000000000000000000a33a6c312d9ad0e0f2e95541beed0cc081621fd0',\n",
       " 'nonce': 21,\n",
       " 'r': HexBytes('0x181af65fb8ea46e86c768570e10756bdf8f15486888cc5981f979da80925fc4b'),\n",
       " 's': HexBytes('0x42967e091c4fa45843592275d14197278a5efd32a0b76402b3b2db5261b3861b'),\n",
       " 'to': '0x5fe7CD00aA1aA3cCf94F459E3fB5C633C640aBB4',\n",
       " 'transactionIndex': 0,\n",
       " 'v': 28,\n",
       " 'value': 0})"
      ]
     },
     "execution_count": 65,
     "metadata": {},
     "output_type": "execute_result"
    }
   ],
   "source": [
    "## Get more information from a transaction hash\n",
    "w3.eth.getTransaction(receipt.transactionHash)"
   ]
  },
  {
   "cell_type": "code",
   "execution_count": 66,
   "metadata": {},
   "outputs": [
    {
     "data": {
      "text/plain": [
       "['000000000000000000000000a33a6c312d9ad0e0f2e95541beed0cc081621fd0',\n",
       " '0000000000000000000000000000000000000000000000000000000000000001',\n",
       " '0000000000000000000000000000000000000000000000000000000000000080',\n",
       " '0000000000000000000000000000000000000000000000000000000000000000',\n",
       " '000000000000000000000000a33a6c312d9ad0e0f2e95541beed0cc081621fd0']"
      ]
     },
     "execution_count": 66,
     "metadata": {},
     "output_type": "execute_result"
    }
   ],
   "source": [
    "## Get the contracts final memory from a transaction receipt\n",
    "w3.providers[0].make_request(\"debug_traceTransaction\", [str(ascii(receipt.transactionHash))[10:-2], {}])['result']['structLogs'][-1]['memory']"
   ]
  },
  {
   "cell_type": "code",
   "execution_count": null,
   "metadata": {
    "collapsed": true
   },
   "outputs": [],
   "source": []
  },
  {
   "cell_type": "code",
   "execution_count": null,
   "metadata": {
    "collapsed": true
   },
   "outputs": [],
   "source": []
  }
 ],
 "metadata": {
  "kernelspec": {
   "display_name": "Python 3",
   "language": "python",
   "name": "python3"
  },
  "language_info": {
   "codemirror_mode": {
    "name": "ipython",
    "version": 3
   },
   "file_extension": ".py",
   "mimetype": "text/x-python",
   "name": "python",
   "nbconvert_exporter": "python",
   "pygments_lexer": "ipython3",
   "version": "3.6.3"
  }
 },
 "nbformat": 4,
 "nbformat_minor": 2
}
