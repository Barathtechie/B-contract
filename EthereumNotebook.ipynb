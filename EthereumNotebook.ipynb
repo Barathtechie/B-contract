{
 "cells": [
  {
   "cell_type": "markdown",
   "metadata": {},
   "source": [
    "## Step 1 - Start local geth node\n"
   ]
  },
  {
   "cell_type": "code",
   "execution_count": 90,
   "metadata": {
    "collapsed": true
   },
   "outputs": [],
   "source": [
    "# Step 1 - Start local geth node\n",
    "# Run runGeth script    \n",
    "# $ ./00_runGeth.sh\n",
    "# \n",
    "# Or the following but remember to include the preloaded keyfiles for all actors \n",
    "# geth --dev --dev.period 1 --datadir ./testchain --rpc --rpccorsdomain '*' --rpcport 8646 --rpcapi \"eth,net,web3,debug\" --port 32323 --maxpeers 0 --targetgaslimit 994712388 console"
   ]
  },
  {
   "cell_type": "code",
   "execution_count": 28,
   "metadata": {
    "scrolled": true
   },
   "outputs": [
    {
     "name": "stdout",
     "output_type": "stream",
     "text": [
      "The autoreload extension is already loaded. To reload it, use:\n",
      "  %reload_ext autoreload\n"
     ]
    }
   ],
   "source": [
    "%load_ext autoreload\n",
    "%autoreload 2\n",
    "%reload_ext autoreload\n",
    "\n",
    "import web3, solc, json\n",
    "from web3.contract import ConciseContract\n",
    "from web3 import Web3\n",
    "from web3.auto.gethdev import w3"
   ]
  },
  {
   "cell_type": "code",
   "execution_count": 29,
   "metadata": {
    "collapsed": true
   },
   "outputs": [],
   "source": [
    "# ipc:./testchain/geth.ipc\n",
    "\n",
    "w3 = Web3(Web3.IPCProvider(\"./testchain/geth.ipc\"))"
   ]
  },
  {
   "cell_type": "code",
   "execution_count": 30,
   "metadata": {
    "collapsed": true
   },
   "outputs": [],
   "source": [
    "from web3.middleware import geth_poa_middleware\n",
    "w3.middleware_stack.inject(geth_poa_middleware, layer=0)"
   ]
  },
  {
   "cell_type": "code",
   "execution_count": 31,
   "metadata": {
    "collapsed": true
   },
   "outputs": [],
   "source": [
    "# Set Up Environment"
   ]
  },
  {
   "cell_type": "code",
   "execution_count": null,
   "metadata": {
    "collapsed": true
   },
   "outputs": [],
   "source": []
  },
  {
   "cell_type": "code",
   "execution_count": null,
   "metadata": {
    "collapsed": true
   },
   "outputs": [],
   "source": []
  },
  {
   "cell_type": "code",
   "execution_count": 32,
   "metadata": {},
   "outputs": [
    {
     "data": {
      "text/plain": [
       "3"
      ]
     },
     "execution_count": 32,
     "metadata": {},
     "output_type": "execute_result"
    }
   ],
   "source": [
    "# Check that our geth node is running\n",
    "block = w3.eth.getBlock('latest')\n",
    "block.number"
   ]
  },
  {
   "cell_type": "code",
   "execution_count": 33,
   "metadata": {},
   "outputs": [
    {
     "data": {
      "text/plain": [
       "HexBytes('0xa53b875438060c76116ea10cd9c1fd8d1da5bee2604c3f0e7138a4e07d17f8c4')"
      ]
     },
     "execution_count": 33,
     "metadata": {},
     "output_type": "execute_result"
    }
   ],
   "source": [
    "block.hash\n"
   ]
  },
  {
   "cell_type": "code",
   "execution_count": 34,
   "metadata": {},
   "outputs": [
    {
     "data": {
      "text/plain": [
       "'0xa22AB8A9D641CE77e06D98b7D7065d324D3d6976'"
      ]
     },
     "execution_count": 34,
     "metadata": {},
     "output_type": "execute_result"
    }
   ],
   "source": [
    "# Checks that test accounts have loaded correctly. \n",
    "w3.eth.accounts[2]\n",
    "\n",
    "# >'0xa22AB8A9D641CE77e06D98b7D7065d324D3d6976'"
   ]
  },
  {
   "cell_type": "markdown",
   "metadata": {},
   "source": [
    "## Step 2 - Set Up Environment"
   ]
  },
  {
   "cell_type": "code",
   "execution_count": 35,
   "metadata": {},
   "outputs": [
    {
     "name": "stdout",
     "output_type": "stream",
     "text": [
      "solc, the solidity compiler commandline interface\r\n",
      "Version: 0.4.25+commit.59dbf8f1.Darwin.appleclang\r\n"
     ]
    }
   ],
   "source": [
    "# compile contract, check which version. ie solidity 0.4.25\n",
    "# !pip install solc\n",
    "!solc --version"
   ]
  },
  {
   "cell_type": "code",
   "execution_count": 36,
   "metadata": {},
   "outputs": [],
   "source": [
    "# load web3 python helper functions \n",
    "SCRIPTSDIR=\"scripts\"\n",
    "!cp $SCRIPTSDIR/* .\n",
    "import functions"
   ]
  },
  {
   "cell_type": "code",
   "execution_count": 49,
   "metadata": {},
   "outputs": [
    {
     "name": "stdout",
     "output_type": "stream",
     "text": [
      "mkdir: flattened: File exists\r\n"
     ]
    }
   ],
   "source": [
    "# File operations for solidity flattener\n",
    "!chmod 755 ./scripts/solidityFlattener.pl\n",
    "!mkdir flattened"
   ]
  },
  {
   "cell_type": "code",
   "execution_count": 45,
   "metadata": {},
   "outputs": [],
   "source": [
    "# Unlock user accounts - Takes a few seconds\n",
    "functions.unlockAccounts('');"
   ]
  },
  {
   "cell_type": "code",
   "execution_count": 46,
   "metadata": {},
   "outputs": [
    {
     "name": "stdout",
     "output_type": "stream",
     "text": [
      " # Account                                      EtherBalanceChange                   Token Name\n",
      "-- ------------------------------------------ -------------------- ----------------------- ---------------------\n",
      " 1 0xa11AAE29840fBb5c86E6fd4cF809EBA183AEf433              1000000                       0 Account #1 - Owner\n",
      " 2 0xa22AB8A9D641CE77e06D98b7D7065d324D3d6976              1000000                       0 Account #2 - Alice\n",
      " 3 0xa33a6c312D9aD0E0F2E95541BeED0Cc081621fd0              1000000                       0 Account #3 - Bob\n",
      " 4 0xa44a08d3F6933c69212114bb66E2Df1813651844              1000000                       0 Account #4 - Carol\n",
      " 5 0xa55A151Eb00fded1634D27D1127b4bE4627079EA              1000000                       0 Account #5 - Dave\n",
      " 6 0xa66a85ede0CBE03694AA9d9dE0BB19c99ff55bD9              1000000                       0 Account #6\n",
      " 7 0xa77A2b9D4B1c010A22A7c565Dc418cef683DbceC              1000000                       0 Account #7\n",
      " 8 0xA88A05d2b88283ce84C8325760B72a64591279a2              1000000                       0 Account #8\n",
      " 9 0xa99A0Ae3354c06B1459fd441a32a3F71005D7Da0              1000000                       0 Account #9\n",
      "10 0xAAAA9De1E6C564446EBCA0fd102D8Bd92093c756              1000000                       0 Account #10\n",
      "11 0xaBBa43E7594E3B76afB157989e93c6621497FD4b              1000000                       0 Account #11\n",
      "-- ------------------------------------------ -------------------- ----------------------- ---------------------\n",
      "                                                                                         0 Total Token Balances\n",
      "-- ------------------------------------------ -------------------- ----------------------- ---------------------\n",
      "\n"
     ]
    }
   ],
   "source": [
    "# Test helper fucntions \n",
    "functions.printBalances()"
   ]
  },
  {
   "cell_type": "code",
   "execution_count": 40,
   "metadata": {
    "collapsed": true
   },
   "outputs": [],
   "source": []
  },
  {
   "cell_type": "code",
   "execution_count": null,
   "metadata": {},
   "outputs": [],
   "source": []
  },
  {
   "cell_type": "markdown",
   "metadata": {},
   "source": [
    "## Step 3 - Deploy Base Smart Contracts"
   ]
  },
  {
   "cell_type": "code",
   "execution_count": 47,
   "metadata": {
    "collapsed": true
   },
   "outputs": [],
   "source": [
    "# define\n",
    "def sign_transaction(txn):\n",
    "    # Flesh out the transaction for local signing\n",
    "    next_nonce = w3.eth.getTransactionCount(str(w3.eth.accounts[0]))\n",
    "    signable_transaction = dict(\n",
    "      txn,\n",
    "      nonce=next_nonce,\n",
    "      gasPrice=w3.toWei(4, 'gwei'),\n",
    "    )\n",
    "    # Sign transaction\n",
    "    encrypted_key = open('./testchain/keystore/UTC--2017-05-20T02-37-30.360937280Z--a00af22d07c87d96eeeb0ed583f8f6ac7812827e').read()\n",
    "    private_key = w3.eth.account.decrypt(encrypted_key, '')\n",
    "    signature_info = w3.eth.account.signTransaction(signable_transaction, private_key)\n",
    "    # Broadcast transaction\n",
    "    txn_hash = w3.eth.sendRawTransaction(signature_info.rawTransaction)\n",
    "    # Wait for the transaction to be mined\n",
    "    receipt = w3.eth.waitForTransactionReceipt(txn_hash)\n",
    "\n",
    "    return receipt"
   ]
  },
  {
   "cell_type": "code",
   "execution_count": 88,
   "metadata": {
    "collapsed": true
   },
   "outputs": [],
   "source": [
    "## Warning, this is for testing purposes only, this is not a secure way to handle private key. Needs to be rewritten."
   ]
  },
  {
   "cell_type": "markdown",
   "metadata": {
    "collapsed": true
   },
   "source": [
    "### Step 3a - Contract Deployment"
   ]
  },
  {
   "cell_type": "markdown",
   "metadata": {},
   "source": [
    "#### Build Contract"
   ]
  },
  {
   "cell_type": "code",
   "execution_count": 59,
   "metadata": {},
   "outputs": [
    {
     "name": "stdout",
     "output_type": "stream",
     "text": [
      "contractsdir: ./contracts\r\n",
      "remapdir    : (no remapping)\r\n",
      "mainsol     : WhiteList.sol\r\n",
      "outputsol   : ./flattened/WhiteList_flattened.sol\r\n",
      "Processing contracts/WhiteList.sol\r\n",
      "    Importing contracts/Controlled.sol\r\n",
      "    Processing contracts/Controlled.sol\r\n",
      "        Importing contracts/Owned.sol\r\n",
      "        Processing contracts/Owned.sol\r\n",
      "    Importing contracts/WhiteListInterface.sol\r\n",
      "    Processing contracts/WhiteListInterface.sol\r\n"
     ]
    }
   ],
   "source": [
    "WHITELISTSOL = \"./flattened/WhiteList_flattened.sol\"\n",
    "!./scripts/solidityFlattener.pl --contractsdir=./contracts --mainsol=WhiteList.sol --outputsol={WHITELISTSOL} --verbose"
   ]
  },
  {
   "cell_type": "code",
   "execution_count": 60,
   "metadata": {},
   "outputs": [
    {
     "name": "stdout",
     "output_type": "stream",
     "text": [
      "{\"contracts\":{\"./fla\n"
     ]
    }
   ],
   "source": [
    "WhiteListOutput = !solc --optimize --combined-json abi,bin,interface {WHITELISTSOL}\n",
    "i = 0\n",
    "while (i < len(WhiteListOutput)):\n",
    "    if WhiteListOutput[i][:10] == '{\"contract':\n",
    "        print(WhiteListOutput[i][:20])\n",
    "        WhiteListOutputContract = WhiteListOutput[i]\n",
    "    i = i + 1\n",
    "\n",
    "WhiteListAbi = json.loads(WhiteListOutputContract)['contracts'][WHITELISTSOL + ':WhiteList']['abi'] \n",
    "WhiteListBin = json.loads(WhiteListOutputContract)['contracts'][WHITELISTSOL + ':WhiteList']['bin']\n",
    "\n",
    "# Build the contract object in preparation for deployment\n"
   ]
  },
  {
   "cell_type": "code",
   "execution_count": null,
   "metadata": {
    "collapsed": true
   },
   "outputs": [],
   "source": [
    "#WhiteListBin"
   ]
  },
  {
   "cell_type": "code",
   "execution_count": 89,
   "metadata": {},
   "outputs": [],
   "source": [
    "WhiteListAbi"
   ]
  },
  {
   "cell_type": "markdown",
   "metadata": {},
   "source": [
    "#### Deploy WhiteList"
   ]
  },
  {
   "cell_type": "code",
   "execution_count": 65,
   "metadata": {},
   "outputs": [
    {
     "data": {
      "text/plain": [
       "'0x003575135a878273fcdd691c446e7B75fdECF9eC'"
      ]
     },
     "execution_count": 65,
     "metadata": {},
     "output_type": "execute_result"
    }
   ],
   "source": [
    "## Deploy WhiteList\n",
    "whitelist_deployer = w3.eth.contract(abi=WhiteListAbi, bytecode=WhiteListBin)\n",
    "init = whitelist_deployer.constructor()\n",
    "txn = init.buildTransaction({'gas': 1000000})\n",
    "receipt = sign_transaction(txn)\n",
    "WhiteListAddress = receipt.contractAddress\n",
    "WhiteListAddress"
   ]
  },
  {
   "cell_type": "code",
   "execution_count": 66,
   "metadata": {
    "collapsed": true
   },
   "outputs": [],
   "source": [
    "# Build ConciseContract artifact\n",
    "whitelist_contract = w3.eth.contract(\n",
    "    address=WhiteListAddress,\n",
    "    abi=WhiteListAbi,\n",
    ")\n",
    "whitelist_CContract = ConciseContract(whitelist_contract)\n",
    "whitelist_CContract"
   ]
  },
  {
   "cell_type": "code",
   "execution_count": null,
   "metadata": {},
   "outputs": [],
   "source": []
  },
  {
   "cell_type": "code",
   "execution_count": null,
   "metadata": {
    "collapsed": true
   },
   "outputs": [],
   "source": []
  },
  {
   "cell_type": "markdown",
   "metadata": {},
   "source": [
    "## Step 4 - Interacting with Smart Contract "
   ]
  },
  {
   "cell_type": "code",
   "execution_count": 78,
   "metadata": {},
   "outputs": [
    {
     "name": "stdout",
     "output_type": "stream",
     "text": [
      "WhiteListAddress:             0x003575135a878273fcdd691c446e7B75fdECF9eC    Deployed:True\n"
     ]
    }
   ],
   "source": [
    "print(\"WhiteListAddress:             \" + WhiteListAddress + \"    Deployed:\" + str(whitelist_CContract.isOwner()) )"
   ]
  },
  {
   "cell_type": "markdown",
   "metadata": {},
   "source": [
    "#### 4a - Add accounts to whitelist"
   ]
  },
  {
   "cell_type": "code",
   "execution_count": 75,
   "metadata": {},
   "outputs": [
    {
     "data": {
      "text/plain": [
       "1"
      ]
     },
     "execution_count": 75,
     "metadata": {},
     "output_type": "execute_result"
    }
   ],
   "source": [
    "# Whitelist \n",
    "insert_list = [w3.eth.accounts[2], w3.eth.accounts[3]]\n",
    "\n",
    "# Submit txn\n",
    "txn = whitelist_contract.functions.add(insert_list).buildTransaction({'gas': 320000})\n",
    "receipt = sign_transaction(txn)\n",
    "receipt.status"
   ]
  },
  {
   "cell_type": "code",
   "execution_count": 76,
   "metadata": {},
   "outputs": [
    {
     "data": {
      "text/plain": [
       "True"
      ]
     },
     "execution_count": 76,
     "metadata": {},
     "output_type": "execute_result"
    }
   ],
   "source": [
    "# Using the standard web3 contract call \n",
    "dst_name = whitelist_contract.functions.isInWhiteList(w3.eth.accounts[3]).call()\n",
    "dst_name"
   ]
  },
  {
   "cell_type": "code",
   "execution_count": 77,
   "metadata": {},
   "outputs": [
    {
     "data": {
      "text/plain": [
       "True"
      ]
     },
     "execution_count": 77,
     "metadata": {},
     "output_type": "execute_result"
    }
   ],
   "source": [
    "# Using the ConciseContract call \n",
    "whitelist_CContract.isInWhiteList(w3.eth.accounts[3])"
   ]
  },
  {
   "cell_type": "markdown",
   "metadata": {},
   "source": [
    "#### 4b - Checking Controller"
   ]
  },
  {
   "cell_type": "code",
   "execution_count": 79,
   "metadata": {},
   "outputs": [
    {
     "data": {
      "text/plain": [
       "True"
      ]
     },
     "execution_count": 79,
     "metadata": {},
     "output_type": "execute_result"
    }
   ],
   "source": [
    "whitelist_CContract.isControllable()"
   ]
  },
  {
   "cell_type": "code",
   "execution_count": 87,
   "metadata": {},
   "outputs": [
    {
     "data": {
      "text/plain": [
       "0"
      ]
     },
     "execution_count": 87,
     "metadata": {},
     "output_type": "execute_result"
    }
   ],
   "source": [
    "# Submit txn to add new controller \"accounts[5]\"\n",
    "txn = whitelist_contract.functions.addController(w3.eth.accounts[3]).buildTransaction({'gas': 320000})\n",
    "receipt = sign_transaction(txn)\n",
    "receipt.status"
   ]
  },
  {
   "cell_type": "code",
   "execution_count": null,
   "metadata": {
    "collapsed": true
   },
   "outputs": [],
   "source": []
  },
  {
   "cell_type": "code",
   "execution_count": null,
   "metadata": {
    "collapsed": true
   },
   "outputs": [],
   "source": []
  },
  {
   "cell_type": "code",
   "execution_count": null,
   "metadata": {
    "collapsed": true
   },
   "outputs": [],
   "source": []
  },
  {
   "cell_type": "markdown",
   "metadata": {
    "collapsed": true
   },
   "source": [
    "## Misc Code Blocks"
   ]
  },
  {
   "cell_type": "code",
   "execution_count": 82,
   "metadata": {},
   "outputs": [
    {
     "data": {
      "text/plain": [
       "AttributeDict({'blockHash': HexBytes('0xa4f05cd6586ae67cfb27e7bbbeea30430a784abafaeb9ef6bd1e44bc5da1db02'),\n",
       " 'blockNumber': 507,\n",
       " 'from': '0xa00Af22D07c87d96EeeB0Ed583f8F6AC7812827E',\n",
       " 'gas': 320000,\n",
       " 'gasPrice': 4000000000,\n",
       " 'hash': HexBytes('0x027e61b2223cb7ddd4cccd1f1c063042129ea42116237e9506f2e4dbb1381214'),\n",
       " 'input': '0xc4c1c94f00000000000000000000000000000000000000000000000000000000000000200000000000000000000000000000000000000000000000000000000000000002000000000000000000000000a22ab8a9d641ce77e06d98b7d7065d324d3d6976000000000000000000000000a33a6c312d9ad0e0f2e95541beed0cc081621fd0',\n",
       " 'nonce': 13,\n",
       " 'to': '0x003575135a878273fcdd691c446e7B75fdECF9eC',\n",
       " 'transactionIndex': 0,\n",
       " 'value': 0,\n",
       " 'v': 27,\n",
       " 'r': HexBytes('0xe83351c4b179220c5314c61b2582dc27fb9df815188dcb998f437f8b62bc46e2'),\n",
       " 's': HexBytes('0xd33fa0d94b137e2d53dfa001786bd22b50cdc9b045b5a14092146888034cdb')})"
      ]
     },
     "execution_count": 82,
     "metadata": {},
     "output_type": "execute_result"
    }
   ],
   "source": [
    "## Get more information from a transaction hash\n",
    "w3.eth.getTransaction(receipt.transactionHash)"
   ]
  },
  {
   "cell_type": "code",
   "execution_count": 83,
   "metadata": {},
   "outputs": [
    {
     "data": {
      "text/plain": [
       "['000000000000000000000000a33a6c312d9ad0e0f2e95541beed0cc081621fd0',\n",
       " '0000000000000000000000000000000000000000000000000000000000000002',\n",
       " '00000000000000000000000000000000000000000000000000000000000000e0',\n",
       " '0000000000000000000000000000000000000000000000000000000000000000',\n",
       " '0000000000000000000000000000000000000000000000000000000000000002',\n",
       " '000000000000000000000000a22ab8a9d641ce77e06d98b7d7065d324d3d6976',\n",
       " '000000000000000000000000a33a6c312d9ad0e0f2e95541beed0cc081621fd0',\n",
       " '0000000000000000000000000000000000000000000000000000000000000001']"
      ]
     },
     "execution_count": 83,
     "metadata": {},
     "output_type": "execute_result"
    }
   ],
   "source": [
    "## Get the contracts final memory from a transaction receipt\n",
    "w3.providers[0].make_request(\"debug_traceTransaction\", [str(ascii(receipt.transactionHash))[10:-2], {}])['result']['structLogs'][-1]['memory']"
   ]
  },
  {
   "cell_type": "code",
   "execution_count": null,
   "metadata": {
    "collapsed": true
   },
   "outputs": [],
   "source": []
  }
 ],
 "metadata": {
  "kernelspec": {
   "display_name": "Python 3",
   "language": "python",
   "name": "python3"
  },
  "language_info": {
   "codemirror_mode": {
    "name": "ipython",
    "version": 3
   },
   "file_extension": ".py",
   "mimetype": "text/x-python",
   "name": "python",
   "nbconvert_exporter": "python",
   "pygments_lexer": "ipython3",
   "version": "3.6.3"
  }
 },
 "nbformat": 4,
 "nbformat_minor": 2
}
