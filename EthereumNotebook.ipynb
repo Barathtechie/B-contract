{
 "cells": [
  {
   "cell_type": "markdown",
   "metadata": {},
   "source": [
    "# Interacting with Ethereum using web3.py and Jupyter Notebooks\n",
    "Step by step guide for setting up a Jupyter notebook, connecting to an Ethereum node and working with a Smart Contract.\n",
    "\n",
    "In this tutorial we are using Python 3, so make sure that **python** and **pip** are versioned correctly.\n",
    "<hr>"
   ]
  },
  {
   "cell_type": "markdown",
   "metadata": {},
   "source": [
    "## STEP 0: Getting tutorial materials\n",
    "\n",
    "Grab a copy of the files that we use in this tutorial:\n",
    "\n",
    "+ Using Git:\n",
    "\n",
    "    <code>git clone https://github.com/apguerrera/ethereum-notebooks.git</code>\n",
    "\n",
    "\n",
    "+ Or download it manually from https://github.com/apguerrera/ethereum-notebooks\n",
    "\n",
    "<hr>"
   ]
  },
  {
   "cell_type": "markdown",
   "metadata": {},
   "source": [
    "## STEP 1: Installing dependencies\n",
    "+ Install [Jupyter](https://jupyter.org/)\n",
    "\n",
    "    <code>pip install --upgrade pip</code>\n",
    "\n",
    "    <code>pip install jupyter</code>\n",
    "\n",
    "\n",
    "+ Install [Web3.py](https://web3py.readthedocs.io/en/stable/), Python module for accessing Ethereum blockchain\n",
    "\n",
    "    <code>pip install web3</code>\n",
    "\n",
    "\n",
    "+ Install [py-solc-x](https://pypi.org/project/py-solc-x/), Python module for compiling Solidity contracts\n",
    "\n",
    "    We use **py-solc-x** instead of **py-solc** to compile contracts, since py-solc doesn't support Solidity versions v.0.5.x.\n",
    "    \n",
    "    Also **py-solc-x** provides an ability to choose between different Solidity compiler versions.\n",
    "    \n",
    "    <code>pip install py-solc-x</code>\n",
    "    \n",
    "    Note: the module itself doesn't contain **solc** executable, so let's install solc executable version 0.5.3 that we use in this tutorial\n",
    "    \n",
    "    <code>python -m solcx.install v0.5.3</code>\n",
    "\n",
    "\n",
    "+ To install Geth go to https://ethereum.org/cli and follow the instructions\n",
    "\n",
    "<hr>"
   ]
  },
  {
   "cell_type": "code",
   "execution_count": null,
   "metadata": {},
   "outputs": [],
   "source": [
    "# Remove # to run scripts\n",
    "# !pip install --upgrade pip\n",
    "# !pip install jupyter\n",
    "# !pip install py-solc-x\n",
    "!python -m solcx.install v0.5.3"
   ]
  },
  {
   "cell_type": "markdown",
   "metadata": {},
   "source": [
    "## STEP 2: Running local Geth node\n",
    "\n",
    "+ Go to the project directory and run in your terminal:\n",
    "\n",
    "    <code>geth --dev --dev.period 2 --datadir ./testchain --rpc --rpccorsdomain ‘*’ --rpcport 8646 --rpcapi “eth,net,web3,debug” --port 32323 --maxpeers 0 console</code>\n",
    "\n",
    "\n",
    "+ Or use <code>runGeth.sh</code> script which is doing exactly the same\n",
    "\n",
    "<hr>"
   ]
  },
  {
   "cell_type": "markdown",
   "metadata": {},
   "source": [
    "## STEP 3: Running Jupyter notebook\n",
    "\n",
    "**If you're already viewing this notebook in Jupyter live mode, just skip this step.**\n",
    "\n",
    "+ Open Jupyter notebooks by running the following in your terminal:\n",
    "\n",
    "    <code>jupyter notebook</code>\n",
    "    \n",
    "\n",
    "+ If you see an error message, try:\n",
    "\n",
    "    <code>jupyter-notebook</code>\n",
    "\n",
    "It will open up a window in your browser. Here you need to go to the project folder and open <code>EthereumNotebook.ipynb</code>\n",
    "\n",
    "<hr>"
   ]
  },
  {
   "cell_type": "markdown",
   "metadata": {},
   "source": [
    "## STEP 5: Compiling contracts with py-solc-x"
   ]
  },
  {
   "cell_type": "code",
   "execution_count": 10,
   "metadata": {
    "collapsed": true
   },
   "outputs": [],
   "source": [
    "# check that py-solc-x and solc are installed correctly\n",
    "import solcx\n",
    "#solc.get_installed_solc_versions()"
   ]
  },
  {
   "cell_type": "code",
   "execution_count": 12,
   "metadata": {},
   "outputs": [
    {
     "ename": "SolcError",
     "evalue": "An error occurred during execution\n        > command: `solc --combined-json abi,asm,ast,bin,bin-runtime,clone-bin,devdoc,interface,opcodes,userdoc ./contracts/WhiteList.sol`\n        > return code: `1`\n        > stderr:\n\n        > stdout:\n        ./contracts/Owned.sol:1:1: Error: Source file requires different compiler version (current compiler is 0.4.25+commit.59dbf8f1.Darwin.appleclang - note that nightly builds are considered to be strictly less than the released version\npragma solidity ^0.5.3;\n^---------------------^\n./contracts/Controlled.sol:1:1: Error: Source file requires different compiler version (current compiler is 0.4.25+commit.59dbf8f1.Darwin.appleclang - note that nightly builds are considered to be strictly less than the released version\npragma solidity ^0.5.3;\n^---------------------^\n./contracts/WhiteListInterface.sol:1:1: Error: Source file requires different compiler version (current compiler is 0.4.25+commit.59dbf8f1.Darwin.appleclang - note that nightly builds are considered to be strictly less than the released version\npragma solidity ^0.5.3;\n^---------------------^\n./contracts/WhiteList.sol:1:1: Error: Source file requires different compiler version (current compiler is 0.4.25+commit.59dbf8f1.Darwin.appleclang - note that nightly builds are considered to be strictly less than the released version\npragma solidity ^0.5.3;\n^---------------------^",
     "output_type": "error",
     "traceback": [
      "\u001b[0;31m---------------------------------------------------------------------------\u001b[0m",
      "\u001b[0;31mSolcError\u001b[0m                                 Traceback (most recent call last)",
      "\u001b[0;32m<ipython-input-12-f466a2abb76d>\u001b[0m in \u001b[0;36m<module>\u001b[0;34m\u001b[0m\n\u001b[1;32m      6\u001b[0m     \u001b[0mcontract_interface\u001b[0m \u001b[0;34m=\u001b[0m \u001b[0mcompiled_contacts\u001b[0m\u001b[0;34m[\u001b[0m\u001b[0;34m'{}:{}'\u001b[0m\u001b[0;34m.\u001b[0m\u001b[0mformat\u001b[0m\u001b[0;34m(\u001b[0m\u001b[0mpath\u001b[0m\u001b[0;34m,\u001b[0m \u001b[0mname\u001b[0m\u001b[0;34m)\u001b[0m\u001b[0;34m]\u001b[0m\u001b[0;34m\u001b[0m\u001b[0m\n\u001b[1;32m      7\u001b[0m     \u001b[0;32mreturn\u001b[0m \u001b[0mcontract_interface\u001b[0m\u001b[0;34m\u001b[0m\u001b[0m\n\u001b[0;32m----> 8\u001b[0;31m \u001b[0mcompile_contract\u001b[0m\u001b[0;34m(\u001b[0m\u001b[0;34m'./contracts/WhiteList.sol'\u001b[0m\u001b[0;34m,\u001b[0m \u001b[0;34m'WhiteList'\u001b[0m\u001b[0;34m)\u001b[0m\u001b[0;34m\u001b[0m\u001b[0m\n\u001b[0m",
      "\u001b[0;32m<ipython-input-12-f466a2abb76d>\u001b[0m in \u001b[0;36mcompile_contract\u001b[0;34m(path, name)\u001b[0m\n\u001b[1;32m      3\u001b[0m \u001b[0;31m# arguments are filepath to the contract and name of the contract\u001b[0m\u001b[0;34m\u001b[0m\u001b[0;34m\u001b[0m\u001b[0m\n\u001b[1;32m      4\u001b[0m \u001b[0;32mdef\u001b[0m \u001b[0mcompile_contract\u001b[0m\u001b[0;34m(\u001b[0m\u001b[0mpath\u001b[0m\u001b[0;34m,\u001b[0m \u001b[0mname\u001b[0m\u001b[0;34m)\u001b[0m\u001b[0;34m:\u001b[0m\u001b[0;34m\u001b[0m\u001b[0m\n\u001b[0;32m----> 5\u001b[0;31m     \u001b[0mcompiled_contacts\u001b[0m \u001b[0;34m=\u001b[0m \u001b[0msolc\u001b[0m\u001b[0;34m.\u001b[0m\u001b[0mcompile_files\u001b[0m\u001b[0;34m(\u001b[0m\u001b[0;34m[\u001b[0m\u001b[0mpath\u001b[0m\u001b[0;34m]\u001b[0m\u001b[0;34m)\u001b[0m\u001b[0;34m\u001b[0m\u001b[0m\n\u001b[0m\u001b[1;32m      6\u001b[0m     \u001b[0mcontract_interface\u001b[0m \u001b[0;34m=\u001b[0m \u001b[0mcompiled_contacts\u001b[0m\u001b[0;34m[\u001b[0m\u001b[0;34m'{}:{}'\u001b[0m\u001b[0;34m.\u001b[0m\u001b[0mformat\u001b[0m\u001b[0;34m(\u001b[0m\u001b[0mpath\u001b[0m\u001b[0;34m,\u001b[0m \u001b[0mname\u001b[0m\u001b[0;34m)\u001b[0m\u001b[0;34m]\u001b[0m\u001b[0;34m\u001b[0m\u001b[0m\n\u001b[1;32m      7\u001b[0m     \u001b[0;32mreturn\u001b[0m \u001b[0mcontract_interface\u001b[0m\u001b[0;34m\u001b[0m\u001b[0m\n",
      "\u001b[0;32m~/anaconda3/lib/python3.6/site-packages/solc/main.py\u001b[0m in \u001b[0;36mcompile_files\u001b[0;34m(source_files, allow_empty, output_values, **kwargs)\u001b[0m\n\u001b[1;32m    133\u001b[0m     \u001b[0mcompiler_kwargs\u001b[0m \u001b[0;34m=\u001b[0m \u001b[0mdict\u001b[0m\u001b[0;34m(\u001b[0m\u001b[0msource_files\u001b[0m\u001b[0;34m=\u001b[0m\u001b[0msource_files\u001b[0m\u001b[0;34m,\u001b[0m \u001b[0mcombined_json\u001b[0m\u001b[0;34m=\u001b[0m\u001b[0mcombined_json\u001b[0m\u001b[0;34m,\u001b[0m \u001b[0;34m**\u001b[0m\u001b[0mkwargs\u001b[0m\u001b[0;34m)\u001b[0m\u001b[0;34m\u001b[0m\u001b[0m\n\u001b[1;32m    134\u001b[0m \u001b[0;34m\u001b[0m\u001b[0m\n\u001b[0;32m--> 135\u001b[0;31m     \u001b[0mstdoutdata\u001b[0m\u001b[0;34m,\u001b[0m \u001b[0mstderrdata\u001b[0m\u001b[0;34m,\u001b[0m \u001b[0mcommand\u001b[0m\u001b[0;34m,\u001b[0m \u001b[0mproc\u001b[0m \u001b[0;34m=\u001b[0m \u001b[0msolc_wrapper\u001b[0m\u001b[0;34m(\u001b[0m\u001b[0;34m**\u001b[0m\u001b[0mcompiler_kwargs\u001b[0m\u001b[0;34m)\u001b[0m\u001b[0;34m\u001b[0m\u001b[0m\n\u001b[0m\u001b[1;32m    136\u001b[0m \u001b[0;34m\u001b[0m\u001b[0m\n\u001b[1;32m    137\u001b[0m     \u001b[0mcontracts\u001b[0m \u001b[0;34m=\u001b[0m \u001b[0m_parse_compiler_output\u001b[0m\u001b[0;34m(\u001b[0m\u001b[0mstdoutdata\u001b[0m\u001b[0;34m)\u001b[0m\u001b[0;34m\u001b[0m\u001b[0m\n",
      "\u001b[0;32m~/anaconda3/lib/python3.6/site-packages/solc/utils/string.py\u001b[0m in \u001b[0;36minner\u001b[0;34m(*args, **kwargs)\u001b[0m\n\u001b[1;32m     83\u001b[0m     \u001b[0;34m@\u001b[0m\u001b[0mfunctools\u001b[0m\u001b[0;34m.\u001b[0m\u001b[0mwraps\u001b[0m\u001b[0;34m(\u001b[0m\u001b[0mfn\u001b[0m\u001b[0;34m)\u001b[0m\u001b[0;34m\u001b[0m\u001b[0m\n\u001b[1;32m     84\u001b[0m     \u001b[0;32mdef\u001b[0m \u001b[0minner\u001b[0m\u001b[0;34m(\u001b[0m\u001b[0;34m*\u001b[0m\u001b[0margs\u001b[0m\u001b[0;34m,\u001b[0m \u001b[0;34m**\u001b[0m\u001b[0mkwargs\u001b[0m\u001b[0;34m)\u001b[0m\u001b[0;34m:\u001b[0m\u001b[0;34m\u001b[0m\u001b[0m\n\u001b[0;32m---> 85\u001b[0;31m         \u001b[0;32mreturn\u001b[0m \u001b[0mforce_obj_to_text\u001b[0m\u001b[0;34m(\u001b[0m\u001b[0mfn\u001b[0m\u001b[0;34m(\u001b[0m\u001b[0;34m*\u001b[0m\u001b[0margs\u001b[0m\u001b[0;34m,\u001b[0m \u001b[0;34m**\u001b[0m\u001b[0mkwargs\u001b[0m\u001b[0;34m)\u001b[0m\u001b[0;34m)\u001b[0m\u001b[0;34m\u001b[0m\u001b[0m\n\u001b[0m\u001b[1;32m     86\u001b[0m     \u001b[0;32mreturn\u001b[0m \u001b[0minner\u001b[0m\u001b[0;34m\u001b[0m\u001b[0m\n",
      "\u001b[0;32m~/anaconda3/lib/python3.6/site-packages/solc/wrapper.py\u001b[0m in \u001b[0;36msolc_wrapper\u001b[0;34m(solc_binary, stdin, help, version, add_std, combined_json, optimize, optimize_runs, libraries, output_dir, gas, assemble, link, source_files, import_remappings, ast, ast_json, asm, asm_json, opcodes, bin, bin_runtime, clone_bin, abi, interface, hashes, userdoc, devdoc, formal, allow_paths, standard_json, success_return_code, evm_version)\u001b[0m\n\u001b[1;32m    167\u001b[0m             \u001b[0mstdin_data\u001b[0m\u001b[0;34m=\u001b[0m\u001b[0mstdin\u001b[0m\u001b[0;34m,\u001b[0m\u001b[0;34m\u001b[0m\u001b[0m\n\u001b[1;32m    168\u001b[0m             \u001b[0mstdout_data\u001b[0m\u001b[0;34m=\u001b[0m\u001b[0mstdoutdata\u001b[0m\u001b[0;34m,\u001b[0m\u001b[0;34m\u001b[0m\u001b[0m\n\u001b[0;32m--> 169\u001b[0;31m             \u001b[0mstderr_data\u001b[0m\u001b[0;34m=\u001b[0m\u001b[0mstderrdata\u001b[0m\u001b[0;34m,\u001b[0m\u001b[0;34m\u001b[0m\u001b[0m\n\u001b[0m\u001b[1;32m    170\u001b[0m         )\n\u001b[1;32m    171\u001b[0m \u001b[0;34m\u001b[0m\u001b[0m\n",
      "\u001b[0;31mSolcError\u001b[0m: An error occurred during execution\n        > command: `solc --combined-json abi,asm,ast,bin,bin-runtime,clone-bin,devdoc,interface,opcodes,userdoc ./contracts/WhiteList.sol`\n        > return code: `1`\n        > stderr:\n\n        > stdout:\n        ./contracts/Owned.sol:1:1: Error: Source file requires different compiler version (current compiler is 0.4.25+commit.59dbf8f1.Darwin.appleclang - note that nightly builds are considered to be strictly less than the released version\npragma solidity ^0.5.3;\n^---------------------^\n./contracts/Controlled.sol:1:1: Error: Source file requires different compiler version (current compiler is 0.4.25+commit.59dbf8f1.Darwin.appleclang - note that nightly builds are considered to be strictly less than the released version\npragma solidity ^0.5.3;\n^---------------------^\n./contracts/WhiteListInterface.sol:1:1: Error: Source file requires different compiler version (current compiler is 0.4.25+commit.59dbf8f1.Darwin.appleclang - note that nightly builds are considered to be strictly less than the released version\npragma solidity ^0.5.3;\n^---------------------^\n./contracts/WhiteList.sol:1:1: Error: Source file requires different compiler version (current compiler is 0.4.25+commit.59dbf8f1.Darwin.appleclang - note that nightly builds are considered to be strictly less than the released version\npragma solidity ^0.5.3;\n^---------------------^"
     ]
    }
   ],
   "source": [
    "#https://github.com/ethereum/solidity/releases/download/v0.5.3/solidity_0.5.3.tar.gz\n",
    "# compile contract using solcx and return contract interface\n",
    "# arguments are filepath to the contract and name of the contract\n",
    "def compile_contract(path, name):\n",
    "    compiled_contacts = solc.compile_files([path])\n",
    "    contract_interface = compiled_contacts['{}:{}'.format(path, name)]\n",
    "    return contract_interface\n",
    "compile_contract('./contracts/WhiteList.sol', 'WhiteList')"
   ]
  },
  {
   "cell_type": "markdown",
   "metadata": {},
   "source": [
    "## STEP 6: Conecting to Web3\n",
    "Web3 has a provider type that lets you connect to an Ethereum node or endpoint such as [Infura](https://infura.io/).\n",
    "\n",
    "In our example, we’ll be connecting to a local Geth node running from the /testchain directory, but can be set to any Ethereum node that web3 can connect to."
   ]
  },
  {
   "cell_type": "code",
   "execution_count": null,
   "metadata": {
    "collapsed": true
   },
   "outputs": [],
   "source": [
    "from web3 import Web3\n",
    "w3 = Web3(Web3.IPCProvider('./testchain/geth.ipc'))\n",
    "w3.isConnected()  # if it's false, something went wrong"
   ]
  },
  {
   "cell_type": "code",
   "execution_count": null,
   "metadata": {
    "collapsed": true
   },
   "outputs": [],
   "source": [
    "# check that all accounts were pulled from ./testchain directory successfuly\n",
    "w3.eth.accounts"
   ]
  },
  {
   "cell_type": "code",
   "execution_count": null,
   "metadata": {
    "collapsed": true
   },
   "outputs": [],
   "source": []
  }
 ],
 "metadata": {
  "kernelspec": {
   "display_name": "Python 3",
   "language": "python",
   "name": "python3"
  },
  "language_info": {
   "codemirror_mode": {
    "name": "ipython",
    "version": 3
   },
   "file_extension": ".py",
   "mimetype": "text/x-python",
   "name": "python",
   "nbconvert_exporter": "python",
   "pygments_lexer": "ipython3",
   "version": "3.6.3"
  }
 },
 "nbformat": 4,
 "nbformat_minor": 2
}
