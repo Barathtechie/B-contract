{
 "cells": [
  {
   "cell_type": "markdown",
   "metadata": {},
   "source": [
    "# Interacting with Ethereum using web3.py and Jupyter Notebooks\n",
    "Step by step guide for setting up a Jupyter notebook, connecting to an Ethereum node and working with a Smart Contract.\n",
    "\n",
    "In this tutorial we are using Python 3, so make sure that **python** and **pip** are versioned correctly.\n",
    "<hr>"
   ]
  },
  {
   "cell_type": "markdown",
   "metadata": {},
   "source": [
    "## STEP 0: Getting tutorial materials\n",
    "\n",
    "Grab a copy of the files that we use in this tutorial:\n",
    "\n",
    "+ Using Git:\n",
    "\n",
    "    <code>git clone https://github.com/apguerrera/ethereum-notebooks.git</code>\n",
    "\n",
    "\n",
    "+ Or download it manually from https://github.com/apguerrera/ethereum-notebooks\n",
    "\n",
    "<hr>"
   ]
  },
  {
   "cell_type": "markdown",
   "metadata": {},
   "source": [
    "## STEP 1: Installing Dependencies\n",
    "+ Install [Jupyter](https://jupyter.org/)\n",
    "\n",
    "    <code>pip install --upgrade pip</code>\n",
    "\n",
    "    <code>pip install jupyter</code>\n",
    "\n",
    "\n",
    "+ Install [Web3.py](https://web3py.readthedocs.io/en/stable/), Python module for accessing Ethereum blockchain\n",
    "\n",
    "    <code>pip install web3</code>\n",
    "\n",
    "\n",
    "+ Install [py-solc-x](https://pypi.org/project/py-solc-x/), Python module for compiling Solidity contracts\n",
    "\n",
    "    We use **py-solc-x** instead of **py-solc** to compile contracts, since py-solc doesn't support Solidity versions v.0.5.x.\n",
    "    \n",
    "    Also **py-solc-x** provides an ability to choose between different Solidity compiler versions.\n",
    "    \n",
    "    <code>pip install py-solc-x</code>\n",
    "    \n",
    "    Note: the module itself doesn't contain **solc** executable, so let's install solc executable version 0.5.3 that we use in this tutorial\n",
    "    \n",
    "    <code>python -m solcx.install v0.5.3</code>\n",
    "\n",
    "\n",
    "+ To install Geth go to https://ethereum.org/cli and follow the instructions\n",
    "\n",
    "<hr>"
   ]
  },
  {
   "cell_type": "markdown",
   "metadata": {},
   "source": [
    "## STEP 2: Running local Geth node\n",
    "\n",
    "+ Go to the project directory and run in your terminal:\n",
    "\n",
    "    <code>geth --dev --dev.period 2 --datadir ./testchain --rpc --rpccorsdomain ‘*’ --rpcport 8646 --rpcapi “eth,net,web3,debug” --port 32323 --maxpeers 0 console</code>\n",
    "\n",
    "\n",
    "+ Or use <code>runGeth.sh</code> script which is doing exactly the same\n",
    "\n",
    "<hr>"
   ]
  },
  {
   "cell_type": "markdown",
   "metadata": {},
   "source": [
    "## STEP 3: Running Jupyter notebook\n",
    "\n",
    "**If you're already viewing this notebook in Jupyter live mode, just skip this step.**\n",
    "\n",
    "+ Open Jupyter notebooks by running the following in your terminal:\n",
    "\n",
    "    <code>jupyter notebook</code>\n",
    "    \n",
    "\n",
    "+ If you see an error message, try:\n",
    "\n",
    "    <code>jupyter-notebook</code>\n",
    "\n",
    "It will open up a window in your browser. Here you need to go to the project folder and open <code>EthereumNotebookNew.ipynb</code>\n",
    "\n",
    "<hr>"
   ]
  },
  {
   "cell_type": "markdown",
   "metadata": {},
   "source": [
    "## STEP 5: Compiling contracts with py-solc-x"
   ]
  },
  {
   "cell_type": "code",
   "execution_count": null,
   "metadata": {},
   "outputs": [],
   "source": [
    "# check that py-solc-x and solc are installed correctly\n",
    "import solcx\n",
    "solcx.get_installed_solc_versions()"
   ]
  },
  {
   "cell_type": "code",
   "execution_count": null,
   "metadata": {},
   "outputs": [],
   "source": [
    "# compile contract using solcx and return contract interface\n",
    "# arguments are filepath to the contract and name of the contract\n",
    "def compile_contract(path, name):\n",
    "    compiled_contacts = solcx.compile_files([path])\n",
    "    contract_interface = compiled_contacts['{}:{}'.format(path, name)]\n",
    "    return contract_interface\n",
    "compile_contract('./contracts/WhiteList.sol', 'WhiteList')"
   ]
  },
  {
   "cell_type": "markdown",
   "metadata": {},
   "source": [
    "## STEP 6: Conecting to Web3\n",
    "Web3 has a provider type that lets you connect to an Ethereum node or endpoint such as [Infura](https://infura.io/).\n",
    "\n",
    "In our example, we’ll be connecting to a local Geth node running from the /testchain directory, but can be set to any Ethereum node that web3 can connect to."
   ]
  },
  {
   "cell_type": "code",
   "execution_count": null,
   "metadata": {},
   "outputs": [],
   "source": [
    "from web3 import Web3\n",
    "w3 = Web3(Web3.IPCProvider('./testchain/geth.ipc'))\n",
    "w3.isConnected()  # if it's false, something went wrong"
   ]
  },
  {
   "cell_type": "code",
   "execution_count": null,
   "metadata": {},
   "outputs": [],
   "source": [
    "# check that all accounts were pulled from ./testchain directory successfuly\n",
    "w3.eth.accounts"
   ]
  },
  {
   "cell_type": "code",
   "execution_count": null,
   "metadata": {},
   "outputs": [],
   "source": []
  }
 ],
 "metadata": {
  "kernelspec": {
   "display_name": "whitelist",
   "language": "python",
   "name": "whitelist"
  },
  "language_info": {
   "codemirror_mode": {
    "name": "ipython",
    "version": 3
   },
   "file_extension": ".py",
   "mimetype": "text/x-python",
   "name": "python",
   "nbconvert_exporter": "python",
   "pygments_lexer": "ipython3",
   "version": "3.6.7"
  }
 },
 "nbformat": 4,
 "nbformat_minor": 2
}
